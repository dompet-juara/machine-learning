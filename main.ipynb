{
 "cells": [
  {
   "cell_type": "markdown",
   "id": "4a829709",
   "metadata": {},
   "source": [
    "# **Dompet Juara - Machine Learning Notebook**"
   ]
  },
  {
   "cell_type": "code",
   "execution_count": 1,
   "id": "d6f2dd26",
   "metadata": {},
   "outputs": [
    {
     "name": "stderr",
     "output_type": "stream",
     "text": [
      "2025-05-25 12:48:03,593 - INFO - Menghasilkan tipe pengguna dan proporsi pengeluaran...\n",
      "2025-05-25 12:48:03,698 - INFO - Menghasilkan data pemasukan...\n",
      "2025-05-25 12:48:03,819 - INFO - Menghasilkan rincian pengeluaran...\n",
      "2025-05-25 12:48:04,158 - INFO - Membuat DataFrame...\n",
      "2025-05-25 12:48:04,277 - INFO - Dataset lengkap disimpan di 'data\\dataset_keuangan.csv'\n",
      "2025-05-25 12:48:04,277 - INFO - Membuat visualisasi distribusi digit pertama...\n",
      "2025-05-25 12:48:04,849 - INFO - Plot disimpan di image\\distribusi_digit_bahan_pokok.png\n",
      "2025-05-25 12:48:04,849 - INFO - \n",
      "Rata-rata pembagian pengeluaran per tipe pengguna:\n",
      "2025-05-25 12:48:04,856 - INFO - \n",
      "         Bahan Pokok  Protein & Gizi Tambahan  Tempat Tinggal       Sandang  Konsumsi Praktis  Barang & Jasa Sekunder  Pengeluaran Tidak Esensial         Pajak      Asuransi  Sosial & Budaya  Tabungan / Investasi\n",
      "Tipe                                                                                                                                                                                                                \n",
      "boros   3.183902e+06             5.708380e+06    1.032338e+07  8.604392e+05      1.064609e+07            1.097862e+07                3.400080e+06  5.512583e+05  5.397512e+05     4.795141e+05          3.464361e+06\n",
      "hemat   4.124251e+06             7.374357e+06    1.333200e+07  1.108957e+06      4.423610e+06            4.581909e+06                1.428818e+06  1.696932e+06  1.679468e+06     1.503809e+06          1.075471e+07\n",
      "normal  4.122880e+06             7.349619e+06    1.327136e+07  1.107312e+06      6.576696e+06            6.806409e+06                2.110266e+06  1.129347e+06  1.110604e+06     9.844864e+05          7.119799e+06\n",
      "2025-05-25 12:48:04,856 - INFO - Proses pembuatan dataset selesai.\n"
     ]
    }
   ],
   "source": [
    "!python modules/generate_data.py"
   ]
  }
 ],
 "metadata": {
  "kernelspec": {
   "display_name": "tf2-directml",
   "language": "python",
   "name": "python3"
  },
  "language_info": {
   "codemirror_mode": {
    "name": "ipython",
    "version": 3
   },
   "file_extension": ".py",
   "mimetype": "text/x-python",
   "name": "python",
   "nbconvert_exporter": "python",
   "pygments_lexer": "ipython3",
   "version": "3.9.19"
  }
 },
 "nbformat": 4,
 "nbformat_minor": 5
}
